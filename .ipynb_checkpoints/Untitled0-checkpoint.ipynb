{
 "metadata": {
  "name": "",
  "signature": "sha256:71ad0bc41a10437420f40ab282da27ab0a3fde682e9fe4f40e736c9688dbd941"
 },
 "nbformat": 3,
 "nbformat_minor": 0,
 "worksheets": []
}